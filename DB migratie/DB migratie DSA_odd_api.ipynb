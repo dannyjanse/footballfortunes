{
 "cells": [
  {
   "cell_type": "code",
   "execution_count": 1,
   "metadata": {},
   "outputs": [],
   "source": [
    "import psycopg2\n",
    "import sqlite3\n",
    "\n",
    "# connection variables\n",
    "URL = 'football-fortunes.cj5o1qrvsyia.eu-west-1.rds.amazonaws.com'\n",
    "database_name = 'postgres'\n",
    "port = 5432\n",
    "username = 'master'\n",
    "ww = 'wachtwoord'\n",
    "\n",
    "#Create Psychop connection\n",
    "source_conn = psycopg2.connect(\n",
    "    host = URL,\n",
    "    port = port,\n",
    "    database = database_name,\n",
    "    user= username,\n",
    "    password = ww\n",
    ")\n",
    "source_cursor = source_conn.cursor()\n",
    "\n",
    "# Create sqlite connection\n",
    "destination_conn = sqlite3.connect(\"C:/Users/JanseDanny/OneDrive/Documenten Danny/Football Fortunes/database/DEV/footballfortunes.sqlite\")\n",
    "destination_cursor = destination_conn.cursor()\n",
    "\n",
    "# Gegevens ophalen uit de bron PostgreSQL-database\n",
    "source_cursor.execute(\"SELECT * FROM dsa.oddapi_odds\")\n",
    "data_to_transfer = source_cursor.fetchall()\n",
    "\n",
    "# Voor elke rij in de opgehaalde gegevens\n",
    "for row in data_to_transfer:\n",
    "    # Hier kun je eventueel bewerkingen uitvoeren op de rijgegevens indien nodig\n",
    "    \n",
    "    # Voeg de gegevens in de doel SQLite-database in\n",
    "    destination_cursor.execute(\"\"\"INSERT INTO DSA_oddapi_odds VALUES (\n",
    "                                            ?, ?, ?, ?, ?, ?\n",
    "                               )\"\"\", row)\n",
    "\n",
    "# Commit de transactie in de doel SQLite-database\n",
    "destination_conn.commit()\n",
    "\n",
    "# Sluit de verbindingen\n",
    "source_cursor.close()\n",
    "source_conn.close()\n",
    "destination_cursor.close()\n",
    "destination_conn.close()"
   ]
  }
 ],
 "metadata": {
  "kernelspec": {
   "display_name": "Python 3",
   "language": "python",
   "name": "python3"
  },
  "language_info": {
   "codemirror_mode": {
    "name": "ipython",
    "version": 3
   },
   "file_extension": ".py",
   "mimetype": "text/x-python",
   "name": "python",
   "nbconvert_exporter": "python",
   "pygments_lexer": "ipython3",
   "version": "3.11.5"
  }
 },
 "nbformat": 4,
 "nbformat_minor": 2
}
