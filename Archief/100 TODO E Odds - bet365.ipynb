{
 "cells": [
  {
   "cell_type": "code",
   "execution_count": null,
   "metadata": {},
   "outputs": [],
   "source": [
    "import requests\n",
    "\n",
    "url = \"https://api-football-v1.p.rapidapi.com/v3/fixtures\"\n",
    "\n",
    "querystring = {\"league\":\"39\",\"season\":\"2020\"}\n",
    "\n",
    "headers = {\n",
    "\t\"X-RapidAPI-Key\": \"c2311f4e3cmshb60fb198ccf432dp1f779ejsne2b69117f544\",\n",
    "\t\"X-RapidAPI-Host\": \"api-football-v1.p.rapidapi.com\"}\n",
    "\n",
    "response = requests.request(\"GET\", url, headers=headers, params=querystring)\n",
    "\n",
    "uitslagen_response = response.json()['response']"
   ]
  },
  {
   "cell_type": "code",
   "execution_count": null,
   "metadata": {},
   "outputs": [],
   "source": [
    "import pandas as pd\n",
    "\n",
    "uitslagen = []\n",
    "\n",
    "for fixture in uitslagen_response:\n",
    "    datum = fixture['fixture']['date']\n",
    "    HT = fixture['teams']['home']['name']\n",
    "    AT = fixture['teams']['away']['name']\n",
    "    FGH = fixture['goals']['home']\n",
    "    FGA = fixture['goals']['away']\n",
    "\n",
    "    uitslag = []\n",
    "    uitslag=[datum, HT, AT, FGH, FGA]\n",
    "    uitslagen.append(uitslag)\n",
    "\n",
    "df_uitslagen = pd.DataFrame(uitslagen)\n",
    "df_uitslagen.columns = ['datum', 'HT', 'AT', 'FGH', 'FGA']\n",
    "df_uitslagen.head()"
   ]
  },
  {
   "cell_type": "code",
   "execution_count": null,
   "metadata": {},
   "outputs": [],
   "source": [
    "import requests\n",
    "\n",
    "url = \"https://api-football-v1.p.rapidapi.com/v3/odds\"\n",
    "\n",
    "querystring = {\"league\":\"287\",\"season\":\"2020\"}\n",
    "\n",
    "headers = {\n",
    "\t\"X-RapidAPI-Key\": \"c2311f4e3cmshb60fb198ccf432dp1f779ejsne2b69117f544\",\n",
    "\t\"X-RapidAPI-Host\": \"api-football-v1.p.rapidapi.com\"}\n",
    "\n",
    "response = requests.request(\"GET\", url, headers=headers, params=querystring)\n",
    "\n",
    "response.text"
   ]
  },
  {
   "cell_type": "code",
   "execution_count": 4,
   "metadata": {},
   "outputs": [
    {
     "name": "stdout",
     "output_type": "stream",
     "text": [
      "{\"get\":\"odds\\/bookmakers\",\"parameters\":[],\"errors\":{\"token\":\"Error\\/Missing application key. Go to https:\\/\\/www.api-football.com\\/documentation-v3 to learn how to get your API application key.\"},\"results\":0,\"paging\":{\"current\":1,\"total\":1},\"response\":[]}\n"
     ]
    }
   ],
   "source": [
    "import http.client\n",
    "\n",
    "conn = http.client.HTTPSConnection(\"v3.football.api-sports.io\")\n",
    "\n",
    "headers = {\n",
    "    'x-rapidapi-host': \"v3.football.api-sports.io\",\n",
    "    'x-rapidapi-key': \"c2311f4e3cmshb60fb198ccf432dp1f779ejsne2b69117f544\"\n",
    "    }\n",
    "\n",
    "conn.request(\"GET\", \"/odds/bookmakers\", headers=headers)\n",
    "\n",
    "res = conn.getresponse()\n",
    "data = res.read()\n",
    "\n",
    "print(data.decode(\"utf-8\"))\n"
   ]
  },
  {
   "cell_type": "markdown",
   "metadata": {},
   "source": [
    "import http.client\n",
    "\n",
    "conn = http.client.HTTPSConnection(\"v3.football.api-sports.io\")\n",
    "\n",
    "headers = {\n",
    "    'x-rapidapi-host': \"v3.football.api-sports.io\",\n",
    "    'x-rapidapi-key': \"XxXxXxXxXxXxXxXxXxXxXxXx\"\n",
    "    }\n",
    "\n",
    "conn.request(\"GET\", \"/odds/bookmakers\", headers=headers)\n",
    "\n",
    "res = conn.getresponse()\n",
    "data = res.read()\n",
    "\n",
    "print(data.decode(\"utf-8\"))\n"
   ]
  },
  {
   "cell_type": "markdown",
   "metadata": {},
   "source": []
  }
 ],
 "metadata": {
  "kernelspec": {
   "display_name": "Python 3",
   "language": "python",
   "name": "python3"
  },
  "language_info": {
   "codemirror_mode": {
    "name": "ipython",
    "version": 3
   },
   "file_extension": ".py",
   "mimetype": "text/x-python",
   "name": "python",
   "nbconvert_exporter": "python",
   "pygments_lexer": "ipython3",
   "version": "3.11.5"
  }
 },
 "nbformat": 4,
 "nbformat_minor": 2
}
