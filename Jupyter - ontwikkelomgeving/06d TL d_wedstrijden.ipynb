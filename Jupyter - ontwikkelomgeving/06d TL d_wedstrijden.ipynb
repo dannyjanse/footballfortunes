{
 "cells": [
  {
   "cell_type": "markdown",
   "metadata": {},
   "source": [
    "- Lees VIEW in fd_stats_resultaten. Dit geeft een tabel met resultaten met datumkolom als date én geconformeerde teamnamen.\n",
    "- haal update datum op en maak deelselectie van fd_stats_resultaten (vanaf update datum)\n",
    "- check of wedstrijd al voorkomt in db en voeg eventueel toe\n",
    "- uniek nummer wordt automatisch gegenereerd\n",
    "- daarna hetzelfde voor odds\n",
    "- update de updatedatum"
   ]
  },
  {
   "cell_type": "code",
   "execution_count": 2,
   "metadata": {},
   "outputs": [
    {
     "name": "stdout",
     "output_type": "stream",
     "text": [
      "9141\n",
      "14\n"
     ]
    }
   ],
   "source": [
    "import pandas as pd\n",
    "import sqlalchemy\n",
    "import psycopg2\n",
    "\n",
    "# connection variables\n",
    "URL = 'football-fortunes.cj5o1qrvsyia.eu-west-1.rds.amazonaws.com'\n",
    "database_name = 'postgres'\n",
    "port = 5432\n",
    "username = 'master'\n",
    "ww = 'wachtwoord'\n",
    "\n",
    "# Create SQL Alchemy database connection\n",
    "db_url = f\"postgresql://{username}:{ww}@{URL}:{port}/{database_name}\"\n",
    "engine = sqlalchemy.create_engine(db_url)\n",
    "sqal_connection = engine.connect()\n",
    "\n",
    "# Create Psychop connection\n",
    "psy_connection = psycopg2.connect(\n",
    "    host = URL,\n",
    "    port = port,\n",
    "    database = database_name,\n",
    "    user= username,\n",
    "    password = ww\n",
    ")\n",
    "psy_cursor = psy_connection.cursor()\n",
    "\n",
    "# Haal alle wedstrijden op uit fd_stats_resultaten_VIEW welke nog niet in dwa.wedstrijden staan\n",
    "aantal_nieuw_fd_stats = 0\n",
    "wedstrijden_fd_stats = pd.read_sql(\"\"\"\n",
    "                                       select \n",
    "                                            fsr.div\n",
    "                                            ,fsr.hometeam\n",
    "                                            ,fsr.awayteam\n",
    "                                        from dsa.fd_stats_resultaten_VIEW fsr \n",
    "                                        left outer join dwa.d_wedstrijden dw \n",
    "                                            on fsr.hometeam = dw.hometeam and fsr.awayteam = dw.awayteam \n",
    "                                        where s_wedstrijd is null\n",
    "                                        group by fsr.div, fsr.hometeam, fsr.awayteam\n",
    "                                       ;\"\"\", sqal_connection)\n",
    "\n",
    "for i, wedstrijd in wedstrijden_fd_stats.iterrows():\n",
    "    psy_cursor.execute(\"\"\"\n",
    "                        INSERT INTO dwa.d_wedstrijden (competitie, hometeam, awayteam)\n",
    "                        VALUES (%s, %s, %s);                        \n",
    "                        \"\"\"\n",
    "                        ,(wedstrijd[0], wedstrijd[1], wedstrijd[2]))  \n",
    "    aantal_nieuw_fd_stats += 1 \n",
    "print(aantal_nieuw_fd_stats)\n",
    "\n",
    "# Haal alle wedstrijden op uit oddapi_odds_VIEW welke nog niet in dwa.wedstrijden staan\n",
    "aantal_nieuw_oddapi_odds = 0\n",
    "wedstrijden_oddapi_odds = pd.read_sql(\"\"\"select\n",
    "                                            oo.div\n",
    "                                            ,oo.hometeam\n",
    "                                            ,oo.awayteam\n",
    "                                        from dsa.oddapi_odds_VIEW oo \n",
    "                                        left outer join dwa.d_wedstrijden dw \n",
    "                                            on oo.hometeam = dw.hometeam and oo.awayteam = dw.awayteam \n",
    "                                        where s_wedstrijd is null\n",
    "                                        group by oo.div, oo.hometeam, oo.awayteam\n",
    "                                       ;\"\"\", sqal_connection)\n",
    "\n",
    "for i, wedstrijd in wedstrijden_oddapi_odds.iterrows():\n",
    "    psy_cursor.execute(\"\"\"\n",
    "                        INSERT INTO dwa.d_wedstrijden (competitie, hometeam, awayteam)\n",
    "                        VALUES (%s, %s, %s);                        \n",
    "                        \"\"\"\n",
    "                        ,(wedstrijd[0], wedstrijd[1], wedstrijd[2]))  \n",
    "    aantal_nieuw_oddapi_odds += 1 \n",
    "print(aantal_nieuw_oddapi_odds)\n",
    "\n",
    "# update upate_tabel\n",
    "psy_cursor.execute(\"\"\"\n",
    "                    UPDATE dsa.update\n",
    "                    SET update_datum = current_date\n",
    "                    WHERE tabelnaam = 'd_wedstrijden';                      \n",
    "                    \"\"\")\n",
    "\n",
    "# Commit de transactie en sluit de verbinding\n",
    "sqal_connection.commit()\n",
    "psy_connection.commit()\n",
    "psy_cursor.close()\n",
    "sqal_connection.close()\n",
    "psy_connection.close() "
   ]
  }
 ],
 "metadata": {
  "kernelspec": {
   "display_name": "Python 3",
   "language": "python",
   "name": "python3"
  },
  "language_info": {
   "codemirror_mode": {
    "name": "ipython",
    "version": 3
   },
   "file_extension": ".py",
   "mimetype": "text/x-python",
   "name": "python",
   "nbconvert_exporter": "python",
   "pygments_lexer": "ipython3",
   "version": "3.11.5"
  }
 },
 "nbformat": 4,
 "nbformat_minor": 2
}
