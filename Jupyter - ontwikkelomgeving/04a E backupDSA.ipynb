{
 "cells": [
  {
   "cell_type": "markdown",
   "metadata": {},
   "source": [
    "    TO DO: HANDWERK ERUIT HALEN, NAMELIJK:\n",
    "    - JAARLIJKS DE PROCESVARIABELE seizoen AANPASSEN\n",
    "    - JAARLIJKS OPHALEN PROCESVARIABELE bestaande_gegevens aanpassen "
   ]
  },
  {
   "cell_type": "code",
   "execution_count": 4,
   "metadata": {},
   "outputs": [],
   "source": [
    "def connect_to_db():\n",
    "\n",
    "    import sqlalchemy\n",
    "    import sqlite3\n",
    "    \n",
    "    # Create SQL Alchemy database connection\n",
    "    db_url = f\"sqlite:///C:/Users/JanseDanny/OneDrive/Documenten Danny/Football Fortunes/database/footballfortunes.sqlite\"\n",
    "    ##db_url = f\"sqlite:////app/data/database/footballfortunes.sqlite\"\n",
    "    engine = sqlalchemy.create_engine(db_url, echo=True)\n",
    "    sqal_connection = engine.connect()\n",
    "\n",
    "    # Create Psychop connection\n",
    "    psy_connection = sqlite3.connect(\"C:/Users/JanseDanny/OneDrive/Documenten Danny/Football Fortunes/database/footballfortunes.sqlite\")\n",
    "    ##psy_connection = sqlite3.connect(\"/app/data/database/footballfortunes.sqlite\")\n",
    "    \n",
    "    return psy_connection, sqal_connection\n",
    "\n",
    "def close_connection_db(psy_connection, sqal_connection):\n",
    "    \n",
    "    # Commit de transactie en sluit de verbinding\n",
    "    sqal_connection.close()\n",
    "    psy_connection.close()   "
   ]
  },
  {
   "cell_type": "code",
   "execution_count": 15,
   "metadata": {},
   "outputs": [],
   "source": [
    "def backupdsa(psy_connection):\n",
    "      \n",
    "    print('backup DSA gestart')\n",
    "    \n",
    "    import csv\n",
    "    import os\n",
    "    from datetime import datetime\n",
    "    \n",
    "    huidige_datum = datetime.now().strftime('%Y%m%d_%H%M%S')\n",
    "    \n",
    "    psy_cursor = psy_connection.cursor()\n",
    "    \n",
    "    backuptabellen = ['dsa_fd_stats', 'dsa_oddapi_odds', 'dsa_bets']\n",
    "\n",
    "    for tabel in backuptabellen:\n",
    "        # Step 2: Query the table (replace 'your_table_name' with your actual table name)\n",
    "        psy_cursor.execute(f\"SELECT * FROM {tabel}\")\n",
    "\n",
    "        # Fetch all the data from the table\n",
    "        rows = psy_cursor.fetchall()\n",
    "\n",
    "        # Step 3: Get the column names\n",
    "        column_names = [description[0] for description in psy_cursor.description]\n",
    "\n",
    "        # locatie voor backup\n",
    "        output_file = f'C:/Users/JanseDanny/OneDrive/Documenten Danny/Football Fortunes/database/backup dsa/{huidige_datum}_backup_{tabel}.csv'\n",
    "\n",
    "        # Step 4: Write the data to a CSV file\n",
    "        with open(output_file, mode='w', newline='', encoding='utf-8') as file:\n",
    "            csv_writer = csv.writer(file)\n",
    "\n",
    "            # Write the column headers to the CSV file\n",
    "            csv_writer.writerow(column_names)\n",
    "\n",
    "            # Write the rows to the CSV file\n",
    "            csv_writer.writerows(rows)\n",
    "    \n",
    "    \n",
    "    psy_connection.commit()\n",
    "    print(f'backup DSL gereed')\n"
   ]
  },
  {
   "cell_type": "code",
   "execution_count": 16,
   "metadata": {},
   "outputs": [
    {
     "name": "stdout",
     "output_type": "stream",
     "text": [
      "Extract gestart\n",
      "backup DSA gestart\n",
      "backup DSL gereed\n"
     ]
    }
   ],
   "source": [
    "import time\n",
    "\n",
    "start_time = time.time()\n",
    "print ('Extract gestart')\n",
    "\n",
    "# connectie maken met db\n",
    "psy_connection = connect_to_db()[0]\n",
    "sqal_connection = connect_to_db()[1]\n",
    "\n",
    "backupdsa(psy_connection)\n"
   ]
  }
 ],
 "metadata": {
  "kernelspec": {
   "display_name": "Python 3",
   "language": "python",
   "name": "python3"
  },
  "language_info": {
   "codemirror_mode": {
    "name": "ipython",
    "version": 3
   },
   "file_extension": ".py",
   "mimetype": "text/x-python",
   "name": "python",
   "nbconvert_exporter": "python",
   "pygments_lexer": "ipython3",
   "version": "3.11.5"
  }
 },
 "nbformat": 4,
 "nbformat_minor": 2
}
